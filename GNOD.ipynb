{
 "cells": [
  {
   "cell_type": "code",
   "execution_count": 55,
   "id": "537d15be",
   "metadata": {},
   "outputs": [],
   "source": [
    "from bs4 import BeautifulSoup\n",
    "from random import randint, choice\n",
    "import requests\n",
    "import pandas as pd"
   ]
  },
  {
   "cell_type": "code",
   "execution_count": 4,
   "id": "2342e428",
   "metadata": {},
   "outputs": [
    {
     "data": {
      "text/plain": [
       "200"
      ]
     },
     "execution_count": 4,
     "metadata": {},
     "output_type": "execute_result"
    }
   ],
   "source": [
    "url_billboard = 'https://www.billboard.com/charts/hot-100/'\n",
    "response = requests.get(url_billboard)\n",
    "response.status_code"
   ]
  },
  {
   "cell_type": "code",
   "execution_count": 5,
   "id": "4164fd71",
   "metadata": {},
   "outputs": [],
   "source": [
    "soup = BeautifulSoup(response.text, 'html.parser')\n",
    "result = soup.find_all('div', class_='o-chart-results-list-row-container')\n"
   ]
  },
  {
   "cell_type": "code",
   "execution_count": 6,
   "id": "ffcb29a6",
   "metadata": {},
   "outputs": [
    {
     "data": {
      "text/plain": [
       "'2'"
      ]
     },
     "metadata": {},
     "output_type": "display_data"
    }
   ],
   "source": [
    "display(result[0].find_all('span')[5].text.strip())\n"
   ]
  },
  {
   "cell_type": "code",
   "execution_count": 7,
   "id": "5d0f74b2",
   "metadata": {
    "scrolled": true
   },
   "outputs": [
    {
     "data": {
      "text/plain": [
       "'Jack Harlow'"
      ]
     },
     "execution_count": 7,
     "metadata": {},
     "output_type": "execute_result"
    }
   ],
   "source": [
    "result[0].h3.find_next('span').get_text().strip()\n"
   ]
  },
  {
   "cell_type": "code",
   "execution_count": 8,
   "id": "3d218ed5",
   "metadata": {},
   "outputs": [],
   "source": [
    "songs = []\n",
    "artists=[]\n",
    "lastweeks = []\n",
    "peaks=[]\n",
    "durations=[]\n",
    "for res in result:\n",
    "    song = res.h3.get_text().strip()\n",
    "    artist = res.h3.find_next('span').get_text().strip()\n",
    "    lastweek = res.find_all('span')[5].text.strip()\n",
    "    peak = res.find_all('span')[6].text.strip()\n",
    "    duration = res.find_all('span')[7].text.strip()\n",
    "    \n",
    "    songs.append(song)\n",
    "    artists.append(artist)\n",
    "    lastweeks.append(lastweek)\n",
    "    peaks.append(peak)\n",
    "    durations.append(duration)"
   ]
  },
  {
   "cell_type": "code",
   "execution_count": 21,
   "id": "e7e48997",
   "metadata": {},
   "outputs": [],
   "source": [
    "hot100 = pd.DataFrame({'song': songs, 'artist': artists, \n",
    "                       'Last Week Ranking': lastweeks, 'Peak Ranking': peaks,\n",
    "                        'Weeks on Chart': durations})"
   ]
  },
  {
   "cell_type": "code",
   "execution_count": 22,
   "id": "e725a03e",
   "metadata": {},
   "outputs": [
    {
     "data": {
      "text/html": [
       "<div>\n",
       "<style scoped>\n",
       "    .dataframe tbody tr th:only-of-type {\n",
       "        vertical-align: middle;\n",
       "    }\n",
       "\n",
       "    .dataframe tbody tr th {\n",
       "        vertical-align: top;\n",
       "    }\n",
       "\n",
       "    .dataframe thead th {\n",
       "        text-align: right;\n",
       "    }\n",
       "</style>\n",
       "<table border=\"1\" class=\"dataframe\">\n",
       "  <thead>\n",
       "    <tr style=\"text-align: right;\">\n",
       "      <th></th>\n",
       "      <th>song</th>\n",
       "      <th>artist</th>\n",
       "      <th>Last Week Ranking</th>\n",
       "      <th>Peak Ranking</th>\n",
       "      <th>Weeks on Chart</th>\n",
       "    </tr>\n",
       "  </thead>\n",
       "  <tbody>\n",
       "    <tr>\n",
       "      <th>0</th>\n",
       "      <td>TEXAS HOLD 'EM</td>\n",
       "      <td>Beyoncé</td>\n",
       "      <td>2</td>\n",
       "      <td>1</td>\n",
       "      <td>13</td>\n",
       "    </tr>\n",
       "    <tr>\n",
       "      <th>1</th>\n",
       "      <td>Lose Control</td>\n",
       "      <td>Teddy Swims</td>\n",
       "      <td>4</td>\n",
       "      <td>2</td>\n",
       "      <td>26</td>\n",
       "    </tr>\n",
       "    <tr>\n",
       "      <th>2</th>\n",
       "      <td>Beautiful Things</td>\n",
       "      <td>Benson Boone</td>\n",
       "      <td>8</td>\n",
       "      <td>3</td>\n",
       "      <td>3</td>\n",
       "    </tr>\n",
       "    <tr>\n",
       "      <th>3</th>\n",
       "      <td>Flowers</td>\n",
       "      <td>Miley Cyrus</td>\n",
       "      <td>3</td>\n",
       "      <td>1</td>\n",
       "      <td>40</td>\n",
       "    </tr>\n",
       "    <tr>\n",
       "      <th>4</th>\n",
       "      <td>Turn the Lights Back On</td>\n",
       "      <td>Billy Joel</td>\n",
       "      <td>10</td>\n",
       "      <td>2</td>\n",
       "      <td>60</td>\n",
       "    </tr>\n",
       "    <tr>\n",
       "      <th>...</th>\n",
       "      <td>...</td>\n",
       "      <td>...</td>\n",
       "      <td>...</td>\n",
       "      <td>...</td>\n",
       "      <td>...</td>\n",
       "    </tr>\n",
       "    <tr>\n",
       "      <th>95</th>\n",
       "      <td>Tell It To My Heart</td>\n",
       "      <td>Cash Cash &amp; Taylor Dayne</td>\n",
       "      <td>100</td>\n",
       "      <td>92</td>\n",
       "      <td>4</td>\n",
       "    </tr>\n",
       "    <tr>\n",
       "      <th>96</th>\n",
       "      <td>We Takin' Over (feat. Akon, T.I., Rick Ross, F...</td>\n",
       "      <td>DJ Khaled</td>\n",
       "      <td>97</td>\n",
       "      <td>37</td>\n",
       "      <td>10</td>\n",
       "    </tr>\n",
       "    <tr>\n",
       "      <th>97</th>\n",
       "      <td>Used To Be Young</td>\n",
       "      <td>Miley Cyrus</td>\n",
       "      <td>98</td>\n",
       "      <td>1</td>\n",
       "      <td>-</td>\n",
       "    </tr>\n",
       "    <tr>\n",
       "      <th>98</th>\n",
       "      <td>Heart Like a Truck</td>\n",
       "      <td>Lainey Wilson</td>\n",
       "      <td>91</td>\n",
       "      <td>91</td>\n",
       "      <td>3</td>\n",
       "    </tr>\n",
       "    <tr>\n",
       "      <th>99</th>\n",
       "      <td>greedy</td>\n",
       "      <td>Tate McRae</td>\n",
       "      <td>32</td>\n",
       "      <td>7</td>\n",
       "      <td>-</td>\n",
       "    </tr>\n",
       "  </tbody>\n",
       "</table>\n",
       "<p>100 rows × 5 columns</p>\n",
       "</div>"
      ],
      "text/plain": [
       "                                                 song  \\\n",
       "0                                      TEXAS HOLD 'EM   \n",
       "1                                        Lose Control   \n",
       "2                                    Beautiful Things   \n",
       "3                                             Flowers   \n",
       "4                             Turn the Lights Back On   \n",
       "..                                                ...   \n",
       "95                                Tell It To My Heart   \n",
       "96  We Takin' Over (feat. Akon, T.I., Rick Ross, F...   \n",
       "97                                   Used To Be Young   \n",
       "98                                 Heart Like a Truck   \n",
       "99                                             greedy   \n",
       "\n",
       "                      artist Last Week Ranking Peak Ranking Weeks on Chart  \n",
       "0                    Beyoncé                 2            1             13  \n",
       "1                Teddy Swims                 4            2             26  \n",
       "2               Benson Boone                 8            3              3  \n",
       "3                Miley Cyrus                 3            1             40  \n",
       "4                 Billy Joel                10            2             60  \n",
       "..                       ...               ...          ...            ...  \n",
       "95  Cash Cash & Taylor Dayne               100           92              4  \n",
       "96                 DJ Khaled                97           37             10  \n",
       "97               Miley Cyrus                98            1              -  \n",
       "98             Lainey Wilson                91           91              3  \n",
       "99                Tate McRae                32            7              -  \n",
       "\n",
       "[100 rows x 5 columns]"
      ]
     },
     "execution_count": 22,
     "metadata": {},
     "output_type": "execute_result"
    }
   ],
   "source": [
    "hot100.to_csv('BillboardHot100.csv')\n",
    "hot100"
   ]
  },
  {
   "cell_type": "code",
   "execution_count": 23,
   "id": "3e054951",
   "metadata": {},
   "outputs": [
    {
     "data": {
      "text/plain": [
       "200"
      ]
     },
     "execution_count": 23,
     "metadata": {},
     "output_type": "execute_result"
    }
   ],
   "source": [
    "url_popvortex = 'http://www.popvortex.com/music/charts/top-100-songs.php'\n",
    "response = requests.get(url_popvortex)\n",
    "response.status_code"
   ]
  },
  {
   "cell_type": "code",
   "execution_count": 24,
   "id": "3dc7ca12",
   "metadata": {},
   "outputs": [],
   "source": [
    "soup = BeautifulSoup(response.text, 'html.parser')\n",
    "result = soup.find_all('div', class_=\"chart-content col-xs-12 col-sm-8\")\n",
    "#for res in result:\n",
    "#    print(res.prettify())"
   ]
  },
  {
   "cell_type": "code",
   "execution_count": 25,
   "id": "acb800a0",
   "metadata": {},
   "outputs": [],
   "source": [
    "songs=[]\n",
    "artists=[]\n",
    "genres=[]\n",
    "dates= []\n",
    "for res in result:\n",
    "    song = res.cite.text.strip()\n",
    "    artist = res.em.text.strip()\n",
    "    genre = res.a.text.strip()\n",
    "    date = res.li.find_next_sibling().text.split(\":\")[1]\n",
    "    songs.append(song)\n",
    "    artists.append(artist)\n",
    "    genres.append(genre)\n",
    "    dates.append(date)"
   ]
  },
  {
   "cell_type": "code",
   "execution_count": 26,
   "id": "cdbf9f81",
   "metadata": {},
   "outputs": [],
   "source": [
    "popvortex = pd.DataFrame({'song': songs, 'artist': artists, 'genre': genres, 'release_date':dates})"
   ]
  },
  {
   "cell_type": "code",
   "execution_count": 27,
   "id": "e99df116",
   "metadata": {},
   "outputs": [],
   "source": [
    "popvortex.to_csv('Popvortex100.csv')"
   ]
  },
  {
   "cell_type": "code",
   "execution_count": 28,
   "id": "50232916",
   "metadata": {},
   "outputs": [
    {
     "data": {
      "text/html": [
       "<div>\n",
       "<style scoped>\n",
       "    .dataframe tbody tr th:only-of-type {\n",
       "        vertical-align: middle;\n",
       "    }\n",
       "\n",
       "    .dataframe tbody tr th {\n",
       "        vertical-align: top;\n",
       "    }\n",
       "\n",
       "    .dataframe thead th {\n",
       "        text-align: right;\n",
       "    }\n",
       "</style>\n",
       "<table border=\"1\" class=\"dataframe\">\n",
       "  <thead>\n",
       "    <tr style=\"text-align: right;\">\n",
       "      <th></th>\n",
       "      <th>song</th>\n",
       "      <th>artist</th>\n",
       "      <th>genre</th>\n",
       "      <th>release_date</th>\n",
       "    </tr>\n",
       "  </thead>\n",
       "  <tbody>\n",
       "    <tr>\n",
       "      <th>0</th>\n",
       "      <td>TEXAS HOLD 'EM</td>\n",
       "      <td>Beyoncé</td>\n",
       "      <td>Country</td>\n",
       "      <td>February 11, 2024</td>\n",
       "    </tr>\n",
       "    <tr>\n",
       "      <th>1</th>\n",
       "      <td>Lose Control</td>\n",
       "      <td>Teddy Swims</td>\n",
       "      <td>Pop</td>\n",
       "      <td>June 23, 2023</td>\n",
       "    </tr>\n",
       "    <tr>\n",
       "      <th>2</th>\n",
       "      <td>Beautiful Things</td>\n",
       "      <td>Benson Boone</td>\n",
       "      <td>Pop</td>\n",
       "      <td>January 19, 2024</td>\n",
       "    </tr>\n",
       "    <tr>\n",
       "      <th>3</th>\n",
       "      <td>Flowers</td>\n",
       "      <td>Miley Cyrus</td>\n",
       "      <td>Pop</td>\n",
       "      <td>January 12, 2023</td>\n",
       "    </tr>\n",
       "    <tr>\n",
       "      <th>4</th>\n",
       "      <td>Turn the Lights Back On</td>\n",
       "      <td>Billy Joel</td>\n",
       "      <td>Pop</td>\n",
       "      <td>February 1, 2024</td>\n",
       "    </tr>\n",
       "    <tr>\n",
       "      <th>...</th>\n",
       "      <td>...</td>\n",
       "      <td>...</td>\n",
       "      <td>...</td>\n",
       "      <td>...</td>\n",
       "    </tr>\n",
       "    <tr>\n",
       "      <th>95</th>\n",
       "      <td>Tell It To My Heart</td>\n",
       "      <td>Cash Cash &amp; Taylor Dayne</td>\n",
       "      <td>Dance</td>\n",
       "      <td>September 15, 2023</td>\n",
       "    </tr>\n",
       "    <tr>\n",
       "      <th>96</th>\n",
       "      <td>We Takin' Over (feat. Akon, T.I., Rick Ross, F...</td>\n",
       "      <td>DJ Khaled</td>\n",
       "      <td>Hip-Hop / Rap</td>\n",
       "      <td>March 27, 2007</td>\n",
       "    </tr>\n",
       "    <tr>\n",
       "      <th>97</th>\n",
       "      <td>Used To Be Young</td>\n",
       "      <td>Miley Cyrus</td>\n",
       "      <td>Pop</td>\n",
       "      <td>August 25, 2023</td>\n",
       "    </tr>\n",
       "    <tr>\n",
       "      <th>98</th>\n",
       "      <td>Heart Like a Truck</td>\n",
       "      <td>Lainey Wilson</td>\n",
       "      <td>Country</td>\n",
       "      <td>May 20, 2022</td>\n",
       "    </tr>\n",
       "    <tr>\n",
       "      <th>99</th>\n",
       "      <td>greedy</td>\n",
       "      <td>Tate McRae</td>\n",
       "      <td>Pop</td>\n",
       "      <td>September 15, 2023</td>\n",
       "    </tr>\n",
       "  </tbody>\n",
       "</table>\n",
       "<p>100 rows × 4 columns</p>\n",
       "</div>"
      ],
      "text/plain": [
       "                                                 song  \\\n",
       "0                                      TEXAS HOLD 'EM   \n",
       "1                                        Lose Control   \n",
       "2                                    Beautiful Things   \n",
       "3                                             Flowers   \n",
       "4                             Turn the Lights Back On   \n",
       "..                                                ...   \n",
       "95                                Tell It To My Heart   \n",
       "96  We Takin' Over (feat. Akon, T.I., Rick Ross, F...   \n",
       "97                                   Used To Be Young   \n",
       "98                                 Heart Like a Truck   \n",
       "99                                             greedy   \n",
       "\n",
       "                      artist          genre         release_date  \n",
       "0                    Beyoncé        Country    February 11, 2024  \n",
       "1                Teddy Swims            Pop        June 23, 2023  \n",
       "2               Benson Boone            Pop     January 19, 2024  \n",
       "3                Miley Cyrus            Pop     January 12, 2023  \n",
       "4                 Billy Joel            Pop     February 1, 2024  \n",
       "..                       ...            ...                  ...  \n",
       "95  Cash Cash & Taylor Dayne          Dance   September 15, 2023  \n",
       "96                 DJ Khaled  Hip-Hop / Rap       March 27, 2007  \n",
       "97               Miley Cyrus            Pop      August 25, 2023  \n",
       "98             Lainey Wilson        Country         May 20, 2022  \n",
       "99                Tate McRae            Pop   September 15, 2023  \n",
       "\n",
       "[100 rows x 4 columns]"
      ]
     },
     "execution_count": 28,
     "metadata": {},
     "output_type": "execute_result"
    }
   ],
   "source": [
    "popvortex"
   ]
  },
  {
   "cell_type": "code",
   "execution_count": 50,
   "id": "f754e5e8",
   "metadata": {},
   "outputs": [],
   "source": [
    "def getsong1(df):\n",
    "    song == input(\"Song:\\n\").lower()\n",
    "    if song in df['song'].str.lower().values:\n",
    "        print('TRUE')\n",
    "        return True\n",
    "    else:\n",
    "        print('FALSE')\n",
    "        return False"
   ]
  },
  {
   "cell_type": "code",
   "execution_count": 51,
   "id": "af070579",
   "metadata": {},
   "outputs": [
    {
     "name": "stdout",
     "output_type": "stream",
     "text": [
      "Song:\n",
      "flowers\n",
      "TRUE\n"
     ]
    }
   ],
   "source": [
    "a = getsong1(hot100)"
   ]
  },
  {
   "cell_type": "code",
   "execution_count": 52,
   "id": "0f7ee226",
   "metadata": {},
   "outputs": [],
   "source": [
    "def recommendation(df1, df2):\n",
    "    def getsong(song, df):\n",
    "        return song in df['song'].str.lower().values\n",
    "    \n",
    "    user_input = input(\"Song:\\n\").lower()\n",
    "    if getsong(user_input, df1):\n",
    "        df = df1[df1['song'] != user_input]\n",
    "    elif getsong(user_input, df2):\n",
    "        df = df2[df2['song'] != user_input]\n",
    "    else:\n",
    "        print(\"Error: The provided song is not found in our database.\")\n",
    "        return\n",
    "    \n",
    "    i = randint(0, len(df) - 1)\n",
    "    rec = df.iloc[i]\n",
    "    song = rec['song']\n",
    "    artist = rec['artist']\n",
    "    print(f\"Recommended Song: {song} by {artist}\")"
   ]
  },
  {
   "cell_type": "code",
   "execution_count": 54,
   "id": "0195c430",
   "metadata": {},
   "outputs": [
    {
     "name": "stdout",
     "output_type": "stream",
     "text": [
      "Song:\n",
      "flowers\n",
      "Recommended Song: I Remember Everything (feat. Kacey Musgraves) by Zach Bryan\n"
     ]
    }
   ],
   "source": [
    "recommendation(hot100,popvortex)"
   ]
  },
  {
   "cell_type": "code",
   "execution_count": 62,
   "id": "2794c5ca",
   "metadata": {},
   "outputs": [],
   "source": [
    "def recommendation2(df1, df2):\n",
    "    user_input = input(\"Song:\\n\").lower()\n",
    "    \n",
    "    df1['song'] = df1['song'].str.lower()\n",
    "    df2['song'] = df2['song'].str.lower()\n",
    "    \n",
    "    if user_input in df1['song'].values:\n",
    "        df = df1[df1['song'] != user_input]\n",
    "    elif user_input in df2['song'].values:\n",
    "        df = df2[df2['song'] != user_input]\n",
    "    else:\n",
    "        print(\"Error: The provided song is not found in our database.\")\n",
    "        return\n",
    "    \n",
    "    if user_input in df1['song'].values and user_input in df2['song'].values:\n",
    "        df = pd.concat([df1, df2], ignore_index=True)\n",
    "    \n",
    "    rec = choice(df.index)\n",
    "    song = df.loc[rec, 'song']\n",
    "    artist = df.loc[rec, 'artist']\n",
    "    print(f\"Recommended Song: {song} by {artist}\")"
   ]
  },
  {
   "cell_type": "code",
   "execution_count": 66,
   "id": "e1e98a54",
   "metadata": {},
   "outputs": [
    {
     "name": "stdout",
     "output_type": "stream",
     "text": [
      "Song:\n",
      "aaa\n",
      "Error: The provided song is not found in our database.\n"
     ]
    }
   ],
   "source": [
    "recommendation2(hot100,popvortex)"
   ]
  },
  {
   "cell_type": "code",
   "execution_count": null,
   "id": "5bf1f746",
   "metadata": {},
   "outputs": [],
   "source": []
  }
 ],
 "metadata": {
  "kernelspec": {
   "display_name": "Python 3 (ipykernel)",
   "language": "python",
   "name": "python3"
  },
  "language_info": {
   "codemirror_mode": {
    "name": "ipython",
    "version": 3
   },
   "file_extension": ".py",
   "mimetype": "text/x-python",
   "name": "python",
   "nbconvert_exporter": "python",
   "pygments_lexer": "ipython3",
   "version": "3.11.5"
  }
 },
 "nbformat": 4,
 "nbformat_minor": 5
}
